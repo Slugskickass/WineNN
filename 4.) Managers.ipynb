{
 "cells": [
  {
   "cell_type": "code",
   "id": "initial_id",
   "metadata": {
    "collapsed": true,
    "ExecuteTime": {
     "end_time": "2025-07-24T23:00:29.963126Z",
     "start_time": "2025-07-24T23:00:28.687530Z"
    }
   },
   "source": [
    "import Network as mynetwork\n",
    "import RunManager as rm\n",
    "import torch\n",
    "import torch.nn as nn\n",
    "from torch.utils.data import DataLoader"
   ],
   "outputs": [],
   "execution_count": 1
  },
  {
   "metadata": {
    "ExecuteTime": {
     "end_time": "2025-07-24T23:00:30.052928Z",
     "start_time": "2025-07-24T23:00:30.044698Z"
    }
   },
   "cell_type": "code",
   "source": [
    "network = mynetwork.mynetwork(100,0.1)\n",
    "data = mynetwork.getdata('winequality-red.csv')\n",
    "loader = DataLoader(data, batch_size=50, shuffle=True)"
   ],
   "id": "427ea3e5bf9f834c",
   "outputs": [],
   "execution_count": 2
  },
  {
   "metadata": {
    "ExecuteTime": {
     "end_time": "2025-07-24T23:00:30.811023Z",
     "start_time": "2025-07-24T23:00:30.070478Z"
    }
   },
   "cell_type": "code",
   "source": [
    "optimizer = torch.optim.Adam(network.parameters(), lr=0.001)\n",
    "criterion = nn.MSELoss() #nn.BCELoss()"
   ],
   "id": "6bf3b244ac775c52",
   "outputs": [],
   "execution_count": 3
  },
  {
   "metadata": {
    "ExecuteTime": {
     "end_time": "2025-07-24T23:00:30.823389Z",
     "start_time": "2025-07-24T23:00:30.819221Z"
    }
   },
   "cell_type": "code",
   "source": [
    "m = rm.RunManager()\n",
    "m.begin_run('Ash', network, loader)"
   ],
   "id": "15731c65772e3811",
   "outputs": [],
   "execution_count": 4
  },
  {
   "metadata": {
    "ExecuteTime": {
     "end_time": "2025-07-24T23:00:46.596468Z",
     "start_time": "2025-07-24T23:00:30.832403Z"
    }
   },
   "cell_type": "code",
   "source": [
    "for epoch in range(1000):\n",
    "    m.begin_epoch()\n",
    "    for batch in loader:\n",
    "        characteristics, labels = batch\n",
    "        preds = network(characteristics)  # Pass Batch\n",
    "        loss = criterion(preds,labels)\n",
    "        optimizer.zero_grad()  # Zero Gradients\n",
    "        loss.backward()  # Calculate Gradients\n",
    "        optimizer.step()  # Update Weights\n",
    "        m.track_loss(loss, batch)\n",
    "        m.track_num_correct(preds, labels)\n",
    "    m.end_epoch()"
   ],
   "id": "df50325cf9a4e07e",
   "outputs": [],
   "execution_count": 5
  },
  {
   "metadata": {},
   "cell_type": "code",
   "outputs": [],
   "execution_count": null,
   "source": "",
   "id": "f3f0cce0a2fa7ff0"
  }
 ],
 "metadata": {
  "kernelspec": {
   "display_name": "Python 3",
   "language": "python",
   "name": "python3"
  },
  "language_info": {
   "codemirror_mode": {
    "name": "ipython",
    "version": 2
   },
   "file_extension": ".py",
   "mimetype": "text/x-python",
   "name": "python",
   "nbconvert_exporter": "python",
   "pygments_lexer": "ipython2",
   "version": "2.7.6"
  }
 },
 "nbformat": 4,
 "nbformat_minor": 5
}
