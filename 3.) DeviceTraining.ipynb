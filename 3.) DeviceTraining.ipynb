{
 "cells": [
  {
   "cell_type": "code",
   "id": "initial_id",
   "metadata": {
    "collapsed": true,
    "ExecuteTime": {
     "end_time": "2025-07-24T22:43:06.942072Z",
     "start_time": "2025-07-24T22:43:06.932540Z"
    }
   },
   "source": [
    "import Network as mynetwork\n",
    "import numpy as np\n",
    "import pandas as pd\n",
    "import torch\n",
    "import torch.nn as nn\n",
    "#import matplotlib.pyplot as plt\n",
    "#import torch.nn.functional as F\n",
    "import torch.utils.data as data_utils\n",
    "from torch.utils.data import DataLoader, TensorDataset, random_split\n",
    "#from torch.utils.tensorboard import SummaryWriter\n",
    "#import time"
   ],
   "outputs": [],
   "execution_count": 4
  },
  {
   "metadata": {
    "ExecuteTime": {
     "end_time": "2025-07-24T22:43:09.063899Z",
     "start_time": "2025-07-24T22:43:08.211134Z"
    }
   },
   "cell_type": "code",
   "source": [
    "network = mynetwork.mynetwork(100,0.1)\n",
    "data = mynetwork.getdata('winequality-red.csv')\n",
    "loader = DataLoader(data, batch_size=50, shuffle=True)\n",
    "optimizer = torch.optim.Adam(network.parameters(), lr=0.1)\n",
    "criterion = nn.MSELoss()"
   ],
   "id": "ac0d006ca4fb7fff",
   "outputs": [],
   "execution_count": 5
  },
  {
   "metadata": {
    "ExecuteTime": {
     "end_time": "2025-07-24T22:43:09.879867Z",
     "start_time": "2025-07-24T22:43:09.874763Z"
    }
   },
   "cell_type": "code",
   "source": [
    "if (torch.backends.mps.is_available()):\n",
    "    device = torch.device('mps')\n",
    "else:\n",
    "    device = torch.device('cpu')"
   ],
   "id": "d72e0a6ca204a4e6",
   "outputs": [],
   "execution_count": 6
  },
  {
   "metadata": {
    "ExecuteTime": {
     "end_time": "2025-07-24T22:43:11.910220Z",
     "start_time": "2025-07-24T22:43:11.852785Z"
    }
   },
   "cell_type": "code",
   "source": "network.to(device)",
   "id": "dcc228b3690ce899",
   "outputs": [
    {
     "data": {
      "text/plain": [
       "mynetwork(\n",
       "  (linear): Linear(in_features=11, out_features=50, bias=True)\n",
       "  (m): Sigmoid()\n",
       "  (r): ReLU()\n",
       "  (s): Softmax(dim=1)\n",
       "  (linear1): Linear(in_features=50, out_features=100, bias=True)\n",
       "  (linear2): Linear(in_features=100, out_features=50, bias=True)\n",
       "  (linear3): Linear(in_features=50, out_features=1, bias=True)\n",
       "  (drop): Dropout(p=0.1, inplace=False)\n",
       ")"
      ]
     },
     "execution_count": 7,
     "metadata": {},
     "output_type": "execute_result"
    }
   ],
   "execution_count": 7
  },
  {
   "metadata": {
    "ExecuteTime": {
     "end_time": "2025-07-24T22:45:42.643394Z",
     "start_time": "2025-07-24T22:45:34.197425Z"
    }
   },
   "cell_type": "code",
   "source": [
    "for epoch in range(100):\n",
    "    for batch in loader:\n",
    "        characteristics, labels = batch\n",
    "        characteristics = characteristics.to(device)\n",
    "        labels = labels.to(device)\n",
    "        preds = network(characteristics)  # Pass Batch\n",
    "        loss = criterion(preds,labels)\n",
    "        optimizer.zero_grad()  # Zero Gradients\n",
    "        loss.backward()  # Calculate Gradients\n",
    "        optimizer.step()  # Update Weights"
   ],
   "id": "dd12543eb2665a4c",
   "outputs": [],
   "execution_count": 10
  }
 ],
 "metadata": {
  "kernelspec": {
   "display_name": "Python 3",
   "language": "python",
   "name": "python3"
  },
  "language_info": {
   "codemirror_mode": {
    "name": "ipython",
    "version": 2
   },
   "file_extension": ".py",
   "mimetype": "text/x-python",
   "name": "python",
   "nbconvert_exporter": "python",
   "pygments_lexer": "ipython2",
   "version": "2.7.6"
  }
 },
 "nbformat": 4,
 "nbformat_minor": 5
}
