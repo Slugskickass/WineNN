{
 "cells": [
  {
   "cell_type": "code",
   "id": "initial_id",
   "metadata": {
    "collapsed": true,
    "ExecuteTime": {
     "end_time": "2025-07-24T22:36:57.249320Z",
     "start_time": "2025-07-24T22:36:56.152600Z"
    }
   },
   "source": [
    "import Network as mynetwork\n",
    "import numpy as np\n",
    "import pandas as pd\n",
    "import torch\n",
    "import torch.nn as nn\n",
    "#import matplotlib.pyplot as plt\n",
    "#import torch.nn.functional as F\n",
    "import torch.utils.data as data_utils\n",
    "from torch.utils.data import DataLoader, TensorDataset, random_split\n",
    "#from torch.utils.tensorboard import SummaryWriter\n",
    "#import time"
   ],
   "outputs": [],
   "execution_count": 1
  },
  {
   "metadata": {
    "ExecuteTime": {
     "end_time": "2025-07-24T22:36:58.639836Z",
     "start_time": "2025-07-24T22:36:58.622604Z"
    }
   },
   "cell_type": "code",
   "source": [
    "network = mynetwork.mynetwork(100,0.1)\n",
    "data = mynetwork.getdata('winequality-red.csv')\n",
    "loader = DataLoader(data, batch_size=50, shuffle=True)"
   ],
   "id": "571d2a5cd82d0c93",
   "outputs": [],
   "execution_count": 2
  },
  {
   "metadata": {
    "ExecuteTime": {
     "end_time": "2025-07-24T22:37:01.097884Z",
     "start_time": "2025-07-24T22:37:00.335235Z"
    }
   },
   "cell_type": "code",
   "source": [
    "optimizer = torch.optim.Adam(network.parameters(), lr=0.1)\n",
    "criterion = nn.MSELoss() #nn.BCELoss()"
   ],
   "id": "fb6860a5cfaa24ad",
   "outputs": [],
   "execution_count": 3
  },
  {
   "metadata": {
    "ExecuteTime": {
     "end_time": "2025-07-24T22:45:31.493392Z",
     "start_time": "2025-07-24T22:45:29.894060Z"
    }
   },
   "cell_type": "code",
   "source": [
    "for epoch in range(100):\n",
    "    for batch in loader:\n",
    "        characteristics, labels = batch\n",
    "        preds = network(characteristics)  # Pass Batch\n",
    "        loss = criterion(preds,labels)\n",
    "        optimizer.zero_grad()  # Zero Gradients\n",
    "        loss.backward()  # Calculate Gradients\n",
    "        optimizer.step()  # Update Weights\n",
    "\n",
    "    #     m.track_num_correct(preds, labels)"
   ],
   "id": "3829b05761f53a94",
   "outputs": [],
   "execution_count": 10
  },
  {
   "metadata": {
    "ExecuteTime": {
     "end_time": "2025-07-24T22:37:17.428023Z",
     "start_time": "2025-07-24T22:37:17.423822Z"
    }
   },
   "cell_type": "code",
   "source": "print('Prediction',int(preds[0]), \"Label\", int(labels[0]))",
   "id": "e4e82fea5837bff7",
   "outputs": [
    {
     "name": "stdout",
     "output_type": "stream",
     "text": [
      "Prediction 1 Label 6\n"
     ]
    }
   ],
   "execution_count": 9
  },
  {
   "metadata": {
    "ExecuteTime": {
     "end_time": "2025-07-24T17:01:06.757203Z",
     "start_time": "2025-07-24T17:01:06.754704Z"
    }
   },
   "cell_type": "code",
   "source": "print(torch.backends.mps.is_available())\n",
   "id": "170a96c1042d126b",
   "outputs": [
    {
     "name": "stdout",
     "output_type": "stream",
     "text": [
      "True\n"
     ]
    }
   ],
   "execution_count": 6
  },
  {
   "metadata": {
    "ExecuteTime": {
     "end_time": "2025-07-24T17:01:06.781331Z",
     "start_time": "2025-07-24T17:01:06.778770Z"
    }
   },
   "cell_type": "code",
   "source": "print(network)",
   "id": "6a0ea0a184466089",
   "outputs": [
    {
     "name": "stdout",
     "output_type": "stream",
     "text": [
      "mynetwork(\n",
      "  (linear): Linear(in_features=11, out_features=50, bias=True)\n",
      "  (m): Sigmoid()\n",
      "  (r): ReLU()\n",
      "  (s): Softmax(dim=1)\n",
      "  (linear1): Linear(in_features=50, out_features=100, bias=True)\n",
      "  (linear2): Linear(in_features=100, out_features=50, bias=True)\n",
      "  (linear3): Linear(in_features=50, out_features=1, bias=True)\n",
      "  (drop): Dropout(p=0.1, inplace=False)\n",
      ")\n"
     ]
    }
   ],
   "execution_count": 7
  }
 ],
 "metadata": {
  "kernelspec": {
   "display_name": "Python 3",
   "language": "python",
   "name": "python3"
  },
  "language_info": {
   "codemirror_mode": {
    "name": "ipython",
    "version": 2
   },
   "file_extension": ".py",
   "mimetype": "text/x-python",
   "name": "python",
   "nbconvert_exporter": "python",
   "pygments_lexer": "ipython2",
   "version": "2.7.6"
  }
 },
 "nbformat": 4,
 "nbformat_minor": 5
}
