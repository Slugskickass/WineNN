{
 "cells": [
  {
   "cell_type": "code",
   "id": "initial_id",
   "metadata": {
    "collapsed": true,
    "ExecuteTime": {
     "end_time": "2025-07-29T12:12:44.719495Z",
     "start_time": "2025-07-29T12:12:43.624490Z"
    }
   },
   "source": [
    "import Network as mynetwork\n",
    "import RunManager as rm\n",
    "import RunBuilder as bm\n",
    "import torch\n",
    "import torch.nn as nn\n",
    "from torch.utils.data import DataLoader\n",
    "from collections import OrderedDict"
   ],
   "outputs": [],
   "execution_count": 1
  },
  {
   "metadata": {
    "ExecuteTime": {
     "end_time": "2025-07-29T12:12:44.916090Z",
     "start_time": "2025-07-29T12:12:44.903837Z"
    }
   },
   "cell_type": "code",
   "source": [
    "data = mynetwork.getdata('winequality-red.csv')\n",
    "loader = DataLoader(data, batch_size=50, shuffle=True)\n",
    "number_epochs = 1000\n",
    "NN_width = 100\n",
    "NN_drop = 0.1"
   ],
   "id": "80993e9bcd2a203",
   "outputs": [],
   "execution_count": 2
  },
  {
   "metadata": {
    "ExecuteTime": {
     "end_time": "2025-07-29T12:12:46.062338Z",
     "start_time": "2025-07-29T12:12:46.057808Z"
    }
   },
   "cell_type": "code",
   "source": [
    "params = OrderedDict(lr=[0.001], batch_size=[50], dropout=[0.1], width=[200,500])\n",
    "b = bm.RunBuilder.get_runs(params)"
   ],
   "id": "7e01e288eb012c30",
   "outputs": [],
   "execution_count": 3
  },
  {
   "metadata": {
    "ExecuteTime": {
     "end_time": "2025-07-29T12:13:53.250287Z",
     "start_time": "2025-07-29T12:12:47.179550Z"
    }
   },
   "cell_type": "code",
   "source": [
    "for run in b:\n",
    "    loader = DataLoader(data, batch_size=run.batch_size, shuffle=True)\n",
    "    network = mynetwork.mynetwork(run.width,run.dropout)\n",
    "    optimizer = torch.optim.Adam(network.parameters(), lr=run.lr)\n",
    "    criterion = nn.MSELoss() #nn.BCELoss()\n",
    "    m = rm.RunManager()\n",
    "    m.begin_run(run, network, loader)\n",
    "    for epoch in range(number_epochs):\n",
    "        m.begin_epoch()\n",
    "        for batch in loader:\n",
    "            characteristics, labels = batch\n",
    "            preds = network(characteristics)  # Pass Batch\n",
    "            loss = criterion(preds,labels)\n",
    "            optimizer.zero_grad()  # Zero Gradients\n",
    "            loss.backward()  # Calculate Gradients\n",
    "            optimizer.step()  # Update Weights\n",
    "            m.track_loss(loss, batch)\n",
    "            m.track_num_correct(preds, labels)\n",
    "        m.end_epoch()"
   ],
   "id": "e70187d911815acb",
   "outputs": [],
   "execution_count": 4
  },
  {
   "metadata": {},
   "cell_type": "code",
   "source": "torch.save(network.state_dict(), 'mynetwork')",
   "id": "e8b813e14cb0f8d9",
   "outputs": [],
   "execution_count": null
  },
  {
   "metadata": {
    "ExecuteTime": {
     "end_time": "2025-08-10T12:29:36.886654Z",
     "start_time": "2025-08-10T12:29:36.783082Z"
    }
   },
   "cell_type": "code",
   "source": "network.load_state_dict(torch.load('mynetwork', weights_only=True))\n",
   "id": "6eca91fbb8e20f36",
   "outputs": [
    {
     "ename": "NameError",
     "evalue": "name 'network' is not defined",
     "output_type": "error",
     "traceback": [
      "\u001B[31m---------------------------------------------------------------------------\u001B[39m",
      "\u001B[31mNameError\u001B[39m                                 Traceback (most recent call last)",
      "\u001B[36mCell\u001B[39m\u001B[36m \u001B[39m\u001B[32mIn[1]\u001B[39m\u001B[32m, line 1\u001B[39m\n\u001B[32m----> \u001B[39m\u001B[32m1\u001B[39m \u001B[43mnetwork\u001B[49m.load_state_dict(torch.load(\u001B[33m'\u001B[39m\u001B[33mmynetwork\u001B[39m\u001B[33m'\u001B[39m, weights_only=\u001B[38;5;28;01mTrue\u001B[39;00m))\n",
      "\u001B[31mNameError\u001B[39m: name 'network' is not defined"
     ]
    }
   ],
   "execution_count": 1
  },
  {
   "metadata": {
    "ExecuteTime": {
     "end_time": "2025-07-29T12:14:04.124657Z",
     "start_time": "2025-07-29T12:14:04.109026Z"
    }
   },
   "cell_type": "code",
   "source": [
    "with torch.no_grad():\n",
    "    network.eval()\n",
    "    data = mynetwork.getevaldata('winequality-red.csv')\n",
    "    loader = DataLoader(data, batch_size=50, shuffle=True)\n",
    "    first_batch = next(iter(loader))\n",
    "    characteristics, labels = first_batch"
   ],
   "id": "689ae808b02164ab",
   "outputs": [],
   "execution_count": 6
  },
  {
   "metadata": {
    "ExecuteTime": {
     "end_time": "2025-07-29T12:16:27.490149Z",
     "start_time": "2025-07-29T12:16:27.485395Z"
    }
   },
   "cell_type": "code",
   "source": "preds = network(characteristics)",
   "id": "17ca41fd9261fa5d",
   "outputs": [],
   "execution_count": 15
  },
  {
   "metadata": {
    "ExecuteTime": {
     "end_time": "2025-07-29T12:25:02.945980Z",
     "start_time": "2025-07-29T12:25:02.935330Z"
    }
   },
   "cell_type": "code",
   "source": [
    "print(\"|  Preds  |  Label  | Differ  |\")\n",
    "for I in range(10):\n",
    "    if abs(preds[I].item() - labels[I].item()) >0.5:\n",
    "        a= '*'\n",
    "    else:\n",
    "        a = '|'\n",
    "    print('|%8.3f' %preds[I].item(), '|%8.3f' %labels[I].item(), '|%8.3f' %(preds[I].item() - labels[I].item()),a)"
   ],
   "id": "484fce628bcfd485",
   "outputs": [
    {
     "name": "stdout",
     "output_type": "stream",
     "text": [
      "|  Preds  |  Label  | Differ  |\n",
      "|   6.307 |   6.000 |   0.307 |\n",
      "|   5.385 |   6.000 |  -0.615 *\n",
      "|   5.738 |   6.000 |  -0.262 |\n",
      "|   6.252 |   8.000 |  -1.748 *\n",
      "|   5.902 |   6.000 |  -0.098 |\n",
      "|   6.027 |   6.000 |   0.027 |\n",
      "|   4.930 |   5.000 |  -0.070 |\n",
      "|   5.795 |   6.000 |  -0.205 |\n",
      "|   7.148 |   6.000 |   1.148 *\n",
      "|   6.309 |   6.000 |   0.309 |\n"
     ]
    }
   ],
   "execution_count": 38
  }
 ],
 "metadata": {
  "kernelspec": {
   "display_name": "Python 3",
   "language": "python",
   "name": "python3"
  },
  "language_info": {
   "codemirror_mode": {
    "name": "ipython",
    "version": 2
   },
   "file_extension": ".py",
   "mimetype": "text/x-python",
   "name": "python",
   "nbconvert_exporter": "python",
   "pygments_lexer": "ipython2",
   "version": "2.7.6"
  }
 },
 "nbformat": 4,
 "nbformat_minor": 5
}
