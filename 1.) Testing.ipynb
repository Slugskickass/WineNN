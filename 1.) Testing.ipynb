{
 "cells": [
  {
   "cell_type": "code",
   "id": "initial_id",
   "metadata": {
    "collapsed": true,
    "ExecuteTime": {
     "end_time": "2025-07-24T16:34:32.236194Z",
     "start_time": "2025-07-24T16:34:32.234757Z"
    }
   },
   "source": [
    ""
   ],
   "outputs": [],
   "execution_count": null
  },
  {
   "metadata": {},
   "cell_type": "markdown",
   "source": [
    "To set up the enviroment I used <br>\n",
    "conda create -n ines python=3.12 <br>\n",
    "Then I ran <br>\n",
    "pip3 install torch torchvision torchaudio <br>\n",
    "Then I ran <br>\n",
    "conda install matplotlib <br>\n",
    "conda install pandas <br>\n",
    "The data was downloaded from <br>\n",
    "https://archive.ics.uci.edu/dataset/186/wine+quality"
   ],
   "id": "b1654ba49164b46"
  },
  {
   "metadata": {
    "ExecuteTime": {
     "end_time": "2025-08-10T12:46:47.810272Z",
     "start_time": "2025-08-10T12:46:43.836191Z"
    }
   },
   "cell_type": "code",
   "source": [
    "# Our imports\n",
    "import numpy as np\n",
    "import pandas as pd\n",
    "import torch\n",
    "import torch.nn as nn\n",
    "#import matplotlib.pyplot as plt\n",
    "#import torch.nn.functional as F\n",
    "import torch.utils.data as data_utils\n",
    "from torch.utils.data import DataLoader, TensorDataset, random_split\n",
    "#from torch.utils.tensorboard import SummaryWriter\n",
    "#import time"
   ],
   "id": "a8304037f79f748a",
   "outputs": [],
   "execution_count": 1
  },
  {
   "metadata": {
    "ExecuteTime": {
     "end_time": "2025-08-10T12:46:51.616591Z",
     "start_time": "2025-08-10T12:46:51.604511Z"
    }
   },
   "cell_type": "code",
   "source": [
    "# This doesn't work as the first line is not a csv format\n",
    "mydataNump = np.genfromtxt('winequality-red.csv', delimiter=';', skip_header=2)\n",
    "print(mydataNump)"
   ],
   "id": "50c5e61e7144d17c",
   "outputs": [
    {
     "name": "stdout",
     "output_type": "stream",
     "text": [
      "[[ 7.8    0.88   0.    ...  0.68   9.8    5.   ]\n",
      " [ 7.8    0.76   0.04  ...  0.65   9.8    5.   ]\n",
      " [11.2    0.28   0.56  ...  0.58   9.8    6.   ]\n",
      " ...\n",
      " [ 6.3    0.51   0.13  ...  0.75  11.     6.   ]\n",
      " [ 5.9    0.645  0.12  ...  0.71  10.2    5.   ]\n",
      " [ 6.     0.31   0.47  ...  0.66  11.     6.   ]]\n"
     ]
    }
   ],
   "execution_count": 2
  },
  {
   "metadata": {
    "ExecuteTime": {
     "end_time": "2025-08-10T12:46:57.943372Z",
     "start_time": "2025-08-10T12:46:57.922912Z"
    }
   },
   "cell_type": "code",
   "source": [
    "mydatapd = pd.read_csv('winequality-red.csv', delimiter=';')\n",
    "mydatapd.head()"
   ],
   "id": "d72bc053ccf45d07",
   "outputs": [
    {
     "data": {
      "text/plain": [
       "   fixed acidity  volatile acidity  citric acid  residual sugar  chlorides  \\\n",
       "0            7.4              0.70         0.00             1.9      0.076   \n",
       "1            7.8              0.88         0.00             2.6      0.098   \n",
       "2            7.8              0.76         0.04             2.3      0.092   \n",
       "3           11.2              0.28         0.56             1.9      0.075   \n",
       "4            7.4              0.70         0.00             1.9      0.076   \n",
       "\n",
       "   free sulfur dioxide  total sulfur dioxide  density    pH  sulphates  \\\n",
       "0                 11.0                  34.0   0.9978  3.51       0.56   \n",
       "1                 25.0                  67.0   0.9968  3.20       0.68   \n",
       "2                 15.0                  54.0   0.9970  3.26       0.65   \n",
       "3                 17.0                  60.0   0.9980  3.16       0.58   \n",
       "4                 11.0                  34.0   0.9978  3.51       0.56   \n",
       "\n",
       "   alcohol  quality  \n",
       "0      9.4        5  \n",
       "1      9.8        5  \n",
       "2      9.8        5  \n",
       "3      9.8        6  \n",
       "4      9.4        5  "
      ],
      "text/html": [
       "<div>\n",
       "<style scoped>\n",
       "    .dataframe tbody tr th:only-of-type {\n",
       "        vertical-align: middle;\n",
       "    }\n",
       "\n",
       "    .dataframe tbody tr th {\n",
       "        vertical-align: top;\n",
       "    }\n",
       "\n",
       "    .dataframe thead th {\n",
       "        text-align: right;\n",
       "    }\n",
       "</style>\n",
       "<table border=\"1\" class=\"dataframe\">\n",
       "  <thead>\n",
       "    <tr style=\"text-align: right;\">\n",
       "      <th></th>\n",
       "      <th>fixed acidity</th>\n",
       "      <th>volatile acidity</th>\n",
       "      <th>citric acid</th>\n",
       "      <th>residual sugar</th>\n",
       "      <th>chlorides</th>\n",
       "      <th>free sulfur dioxide</th>\n",
       "      <th>total sulfur dioxide</th>\n",
       "      <th>density</th>\n",
       "      <th>pH</th>\n",
       "      <th>sulphates</th>\n",
       "      <th>alcohol</th>\n",
       "      <th>quality</th>\n",
       "    </tr>\n",
       "  </thead>\n",
       "  <tbody>\n",
       "    <tr>\n",
       "      <th>0</th>\n",
       "      <td>7.4</td>\n",
       "      <td>0.70</td>\n",
       "      <td>0.00</td>\n",
       "      <td>1.9</td>\n",
       "      <td>0.076</td>\n",
       "      <td>11.0</td>\n",
       "      <td>34.0</td>\n",
       "      <td>0.9978</td>\n",
       "      <td>3.51</td>\n",
       "      <td>0.56</td>\n",
       "      <td>9.4</td>\n",
       "      <td>5</td>\n",
       "    </tr>\n",
       "    <tr>\n",
       "      <th>1</th>\n",
       "      <td>7.8</td>\n",
       "      <td>0.88</td>\n",
       "      <td>0.00</td>\n",
       "      <td>2.6</td>\n",
       "      <td>0.098</td>\n",
       "      <td>25.0</td>\n",
       "      <td>67.0</td>\n",
       "      <td>0.9968</td>\n",
       "      <td>3.20</td>\n",
       "      <td>0.68</td>\n",
       "      <td>9.8</td>\n",
       "      <td>5</td>\n",
       "    </tr>\n",
       "    <tr>\n",
       "      <th>2</th>\n",
       "      <td>7.8</td>\n",
       "      <td>0.76</td>\n",
       "      <td>0.04</td>\n",
       "      <td>2.3</td>\n",
       "      <td>0.092</td>\n",
       "      <td>15.0</td>\n",
       "      <td>54.0</td>\n",
       "      <td>0.9970</td>\n",
       "      <td>3.26</td>\n",
       "      <td>0.65</td>\n",
       "      <td>9.8</td>\n",
       "      <td>5</td>\n",
       "    </tr>\n",
       "    <tr>\n",
       "      <th>3</th>\n",
       "      <td>11.2</td>\n",
       "      <td>0.28</td>\n",
       "      <td>0.56</td>\n",
       "      <td>1.9</td>\n",
       "      <td>0.075</td>\n",
       "      <td>17.0</td>\n",
       "      <td>60.0</td>\n",
       "      <td>0.9980</td>\n",
       "      <td>3.16</td>\n",
       "      <td>0.58</td>\n",
       "      <td>9.8</td>\n",
       "      <td>6</td>\n",
       "    </tr>\n",
       "    <tr>\n",
       "      <th>4</th>\n",
       "      <td>7.4</td>\n",
       "      <td>0.70</td>\n",
       "      <td>0.00</td>\n",
       "      <td>1.9</td>\n",
       "      <td>0.076</td>\n",
       "      <td>11.0</td>\n",
       "      <td>34.0</td>\n",
       "      <td>0.9978</td>\n",
       "      <td>3.51</td>\n",
       "      <td>0.56</td>\n",
       "      <td>9.4</td>\n",
       "      <td>5</td>\n",
       "    </tr>\n",
       "  </tbody>\n",
       "</table>\n",
       "</div>"
      ]
     },
     "execution_count": 3,
     "metadata": {},
     "output_type": "execute_result"
    }
   ],
   "execution_count": 3
  },
  {
   "metadata": {
    "ExecuteTime": {
     "end_time": "2025-08-10T12:46:59.835538Z",
     "start_time": "2025-08-10T12:46:59.831806Z"
    }
   },
   "cell_type": "code",
   "source": [
    "print(\"The original data is this shape\",mydataNump.shape)\n",
    "winedata = mydataNump[:-100, 0:11]\n",
    "\n",
    "print(\"I cut out the growing data and leave 100 rows for later giving\", winedata.shape)\n",
    "\n",
    "quality = mydataNump[:-100:, 11]\n",
    "print(\"finally I slect all but the last 100 quaity values\", quality.shape)"
   ],
   "id": "39b0e565a8ce1fa8",
   "outputs": [
    {
     "name": "stdout",
     "output_type": "stream",
     "text": [
      "The original data is this shape (1598, 12)\n",
      "I cut out the growing data and leave 100 rows for later giving (1498, 11)\n",
      "finally I slect all but the last 100 quaity values (1498,)\n"
     ]
    }
   ],
   "execution_count": 4
  },
  {
   "metadata": {
    "ExecuteTime": {
     "end_time": "2025-08-10T12:47:01.951926Z",
     "start_time": "2025-08-10T12:47:01.945821Z"
    }
   },
   "cell_type": "code",
   "source": [
    "class mynetwork(nn.Module):\n",
    "    def __init__(self, middle_width, drop_out):\n",
    "        super().__init__()\n",
    "        self.linear = nn.Linear(11, int(middle_width/2))\n",
    "        self.m = nn.Sigmoid()\n",
    "        self.r = nn.ReLU()\n",
    "        self.s = nn.Softmax(dim=1)\n",
    "        self.linear1 = nn.Linear(int(middle_width/2), middle_width)\n",
    "        self.linear2 = nn.Linear(middle_width, int(middle_width/2))\n",
    "        self.linear3 = nn.Linear(int(middle_width/2), 1)\n",
    "        self.drop = nn.Dropout(drop_out)\n",
    "\n",
    "    def forward(self, xb):\n",
    "        xb = self.linear(xb)\n",
    "        xb = self.r(xb)\n",
    "        xb = self.linear1(xb)\n",
    "        xb = self.drop(xb)\n",
    "        xb = self.r(xb)\n",
    "        xb = self.linear2(xb)\n",
    "        xb = self.r(xb)\n",
    "        out = self.linear3(xb)\n",
    "        #out = self.s(xb)\n",
    "        return out"
   ],
   "id": "abc62f4e196af65d",
   "outputs": [],
   "execution_count": 5
  },
  {
   "metadata": {
    "ExecuteTime": {
     "end_time": "2025-08-10T12:47:04.288580Z",
     "start_time": "2025-08-10T12:47:04.280090Z"
    }
   },
   "cell_type": "code",
   "source": [
    "wineData_tensor = torch.from_numpy(winedata).float()\n",
    "quality_tensor = torch.from_numpy(quality).unsqueeze(1).float()\n",
    "train_tensor = data_utils.TensorDataset(wineData_tensor, quality_tensor)\n",
    "loader = DataLoader(train_tensor, batch_size=50, shuffle=True)\n",
    "first_batch = next(iter(loader))\n",
    "characteristics, labels = first_batch\n"
   ],
   "id": "3fa81e1423ae580d",
   "outputs": [],
   "execution_count": 6
  },
  {
   "metadata": {
    "ExecuteTime": {
     "end_time": "2025-08-10T12:47:07.400383Z",
     "start_time": "2025-08-10T12:47:07.396457Z"
    }
   },
   "cell_type": "code",
   "source": [
    "print(first_batch[0].shape, first_batch[0].type())\n",
    "print(first_batch[1].shape, first_batch[1].type())"
   ],
   "id": "c6beba31194d27b2",
   "outputs": [
    {
     "name": "stdout",
     "output_type": "stream",
     "text": [
      "torch.Size([50, 11]) torch.FloatTensor\n",
      "torch.Size([50, 1]) torch.FloatTensor\n"
     ]
    }
   ],
   "execution_count": 7
  },
  {
   "metadata": {
    "ExecuteTime": {
     "end_time": "2025-08-10T12:47:09.637422Z",
     "start_time": "2025-08-10T12:47:09.632642Z"
    }
   },
   "cell_type": "code",
   "source": "network = mynetwork(100, 0.1)",
   "id": "6b21a8c9cbce3684",
   "outputs": [],
   "execution_count": 8
  },
  {
   "metadata": {
    "ExecuteTime": {
     "end_time": "2025-08-10T12:47:11.408296Z",
     "start_time": "2025-08-10T12:47:11.395291Z"
    }
   },
   "cell_type": "code",
   "source": "preds = network(characteristics)",
   "id": "e63133a2f1bda5c0",
   "outputs": [],
   "execution_count": 9
  },
  {
   "metadata": {
    "ExecuteTime": {
     "end_time": "2025-08-10T12:47:13.303640Z",
     "start_time": "2025-08-10T12:47:13.297904Z"
    }
   },
   "cell_type": "code",
   "source": [
    "print(preds.shape)\n",
    "print(preds)"
   ],
   "id": "855fd52336ae9471",
   "outputs": [
    {
     "name": "stdout",
     "output_type": "stream",
     "text": [
      "torch.Size([50, 1])\n",
      "tensor([[ 0.0203],\n",
      "        [ 0.0161],\n",
      "        [ 0.0646],\n",
      "        [-0.1890],\n",
      "        [-0.3137],\n",
      "        [ 0.1093],\n",
      "        [ 0.0223],\n",
      "        [-0.3674],\n",
      "        [-0.1224],\n",
      "        [-0.0368],\n",
      "        [-0.1023],\n",
      "        [-0.1554],\n",
      "        [ 0.0697],\n",
      "        [ 0.0819],\n",
      "        [ 0.1583],\n",
      "        [-0.0313],\n",
      "        [ 0.1405],\n",
      "        [-0.1580],\n",
      "        [-0.3177],\n",
      "        [-0.0318],\n",
      "        [ 0.0934],\n",
      "        [ 0.0201],\n",
      "        [ 0.0152],\n",
      "        [-0.1176],\n",
      "        [ 0.0452],\n",
      "        [ 0.1334],\n",
      "        [-0.1216],\n",
      "        [ 0.1106],\n",
      "        [ 0.0199],\n",
      "        [ 0.1177],\n",
      "        [ 0.0493],\n",
      "        [ 0.0160],\n",
      "        [-0.0091],\n",
      "        [-0.0096],\n",
      "        [-0.3414],\n",
      "        [ 0.1070],\n",
      "        [ 0.0616],\n",
      "        [-0.2374],\n",
      "        [-0.0874],\n",
      "        [-0.2508],\n",
      "        [-0.0164],\n",
      "        [-0.5199],\n",
      "        [-0.4052],\n",
      "        [-1.2882],\n",
      "        [ 0.0963],\n",
      "        [ 0.0555],\n",
      "        [ 0.1769],\n",
      "        [ 0.1064],\n",
      "        [ 0.0414],\n",
      "        [-0.1434]], grad_fn=<AddmmBackward0>)\n"
     ]
    }
   ],
   "execution_count": 10
  }
 ],
 "metadata": {
  "kernelspec": {
   "display_name": "Python 3",
   "language": "python",
   "name": "python3"
  },
  "language_info": {
   "codemirror_mode": {
    "name": "ipython",
    "version": 2
   },
   "file_extension": ".py",
   "mimetype": "text/x-python",
   "name": "python",
   "nbconvert_exporter": "python",
   "pygments_lexer": "ipython2",
   "version": "2.7.6"
  }
 },
 "nbformat": 4,
 "nbformat_minor": 5
}
